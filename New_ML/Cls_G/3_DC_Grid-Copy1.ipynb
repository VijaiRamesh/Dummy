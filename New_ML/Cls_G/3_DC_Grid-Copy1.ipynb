{
 "cells": [
  {
   "cell_type": "code",
   "execution_count": null,
   "id": "YzvMiolxYqq1",
   "metadata": {
    "id": "YzvMiolxYqq1"
   },
   "outputs": [],
   "source": [
    "#importing the Libraies\n",
    "import numpy as np\n",
    "import pandas as pd"
   ]
  },
  {
   "cell_type": "code",
   "execution_count": null,
   "id": "T2T5iPj8Yqq3",
   "metadata": {
    "id": "T2T5iPj8Yqq3"
   },
   "outputs": [],
   "source": [
    "# Reading the Dataset\n",
    "dataset = pd.read_csv('Social_Network_Ads.csv')"
   ]
  },
  {
   "cell_type": "code",
   "execution_count": null,
   "id": "QKiZV2bTYqq5",
   "metadata": {
    "id": "QKiZV2bTYqq5",
    "outputId": "a6b3ace7-74c5-4936-bfe6-6317cc819f8c"
   },
   "outputs": [],
   "source": [
    "dataset"
   ]
  },
  {
   "cell_type": "code",
   "execution_count": null,
   "id": "jf0kV_FmYqq5",
   "metadata": {
    "id": "jf0kV_FmYqq5",
    "outputId": "556878ea-9c93-4d82-ea93-dbc58140982c"
   },
   "outputs": [],
   "source": [
    "dataset"
   ]
  },
  {
   "cell_type": "code",
   "execution_count": null,
   "id": "WZMu15Z5Yqq6",
   "metadata": {
    "id": "WZMu15Z5Yqq6"
   },
   "outputs": [],
   "source": [
    "dataset=pd.get_dummies(dataset,dtype=int,drop_first=True)"
   ]
  },
  {
   "cell_type": "code",
   "execution_count": null,
   "id": "a-pWElIoYqq6",
   "metadata": {
    "id": "a-pWElIoYqq6",
    "outputId": "4ce967c9-43e8-412e-9d73-71fcc1fd3e97"
   },
   "outputs": [],
   "source": [
    "dataset"
   ]
  },
  {
   "cell_type": "code",
   "execution_count": null,
   "id": "KeMPvXrLYqq6",
   "metadata": {
    "id": "KeMPvXrLYqq6"
   },
   "outputs": [],
   "source": [
    "indep=dataset[['Age', 'EstimatedSalary','Gender_Male']]\n",
    "dep=dataset['Purchased']"
   ]
  },
  {
   "cell_type": "code",
   "execution_count": null,
   "id": "4mPXyCWkYqq8",
   "metadata": {
    "id": "4mPXyCWkYqq8"
   },
   "outputs": [],
   "source": [
    "#split into training set and test\n",
    "from sklearn.model_selection import train_test_split\n",
    "X_train, X_test, y_train, y_test = train_test_split(indep, dep, test_size = 0.20, random_state = 0)\n"
   ]
  },
  {
   "cell_type": "code",
   "execution_count": null,
   "id": "ulurv5EHYqq8",
   "metadata": {
    "id": "ulurv5EHYqq8"
   },
   "outputs": [],
   "source": [
    "from sklearn.preprocessing import StandardScaler\n",
    "sc = StandardScaler()\n",
    "X_train = sc.fit_transform(X_train)\n",
    "X_test = sc.transform(X_test)"
   ]
  },
  {
   "cell_type": "code",
   "execution_count": null,
   "id": "qlwV6ctVYqq8",
   "metadata": {
    "id": "qlwV6ctVYqq8"
   },
   "outputs": [],
   "source": [
    "from sklearn.svm import SVC"
   ]
  },
  {
   "cell_type": "code",
   "execution_count": null,
   "id": "0-yXHc3mYqq8",
   "metadata": {
    "id": "0-yXHc3mYqq8"
   },
   "outputs": [],
   "source": [
    "#https://scikit-learn.org/stable/modules/model_evaluation.html#scoring-parameter"
   ]
  },
  {
   "cell_type": "code",
   "execution_count": null,
   "id": "NEo3oLZlYqq9",
   "metadata": {
    "id": "NEo3oLZlYqq9",
    "outputId": "5624c6cb-8a56-47d8-a680-32047f40fee5"
   },
   "outputs": [],
   "source": [
    "from sklearn.model_selection import GridSearchCV\n",
    "\n",
    "# Define the parameter grid\n",
    "param_grid = {\n",
    "    'C': [0.1, 1, 10, 100],\n",
    "    'kernel': ['linear', 'poly', 'rbf', 'sigmoid'],\n",
    "    'degree': [2, 3, 4, 5],\n",
    "    'gamma': ['scale', 'auto', 0.1, 0.01, 0.001],\n",
    "    'coef0': [0, 0.5, 1, 2],\n",
    "    'shrinking': [True, False],\n",
    "    'probability': [True, False],\n",
    "    'tol': [1e-3, 1e-4, 1e-5],\n",
    "    'cache_size': [200, 300, 400],\n",
    "    'class_weight': [None, 'balanced'],\n",
    "    'verbose': [False, True],\n",
    "    'max_iter': [1000, 2000, 5000, -1],\n",
    "    'decision_function_shape': ['ovr', 'ovo'],\n",
    "    'break_ties': [False, True],\n",
    "    'random_state': [None, 42, 100, 500]\n",
    "}\n",
    "\n",
    "grid = GridSearchCV(SVC(), param_grid, refit = True, verbose = 3,n_jobs=-1,scoring='f1_weighted')\n",
    "\n",
    "# fitting the model for grid search\n",
    "grid.fit(X_train, y_train)"
   ]
  },
  {
   "cell_type": "code",
   "execution_count": null,
   "id": "5039e0c0-ba8e-454f-9f1d-1bf2b1ad7e24",
   "metadata": {},
   "outputs": [],
   "source": [
    "\n",
    "re=grid.cv_results_\n",
    "grid_predictions = grid.predict(X_test)"
   ]
  },
  {
   "cell_type": "code",
   "execution_count": null,
   "id": "kJrOgZu0Yqq9",
   "metadata": {
    "id": "kJrOgZu0Yqq9"
   },
   "outputs": [],
   "source": [
    "from sklearn.metrics import confusion_matrix\n",
    "cm = confusion_matrix(y_test, grid_predictions)"
   ]
  },
  {
   "cell_type": "code",
   "execution_count": null,
   "id": "DYwHfRuFYqq9",
   "metadata": {
    "id": "DYwHfRuFYqq9"
   },
   "outputs": [],
   "source": [
    "# print classification report\n",
    "from sklearn.metrics import classification_report\n",
    "clf_report = classification_report(y_test, grid_predictions)"
   ]
  },
  {
   "cell_type": "code",
   "execution_count": null,
   "id": "opacd95JYqq9",
   "metadata": {
    "id": "opacd95JYqq9",
    "outputId": "9303a9ab-1133-423a-d099-54ac4a9b2c56"
   },
   "outputs": [],
   "source": [
    "from sklearn.metrics import f1_score\n",
    "f1_macro=f1_score(y_test,grid_predictions,average='weighted')\n",
    "print(\"The f1_macro value for best parameter {}:\".format(grid.best_params_),f1_macro)"
   ]
  },
  {
   "cell_type": "code",
   "execution_count": null,
   "id": "wikGhozlYqq9",
   "metadata": {
    "id": "wikGhozlYqq9",
    "outputId": "ab81b851-bdaa-46d5-b0de-137c5f1064e0"
   },
   "outputs": [],
   "source": [
    "print(\"The confusion Matrix:\\n\",cm)"
   ]
  },
  {
   "cell_type": "code",
   "execution_count": null,
   "id": "b-g12yl2Yqq9",
   "metadata": {
    "id": "b-g12yl2Yqq9",
    "outputId": "22a092b6-0b66-4f94-8df9-d0d358ff9cc3"
   },
   "outputs": [],
   "source": [
    "print(\"The report:\\n\",clf_report)"
   ]
  },
  {
   "cell_type": "code",
   "execution_count": null,
   "id": "rHT1QCr6Yqq9",
   "metadata": {
    "id": "rHT1QCr6Yqq9",
    "outputId": "81227d2d-0fb7-4985-e1c6-a8901f294b8b"
   },
   "outputs": [],
   "source": [
    "from sklearn.metrics import roc_auc_score\n",
    "roc_auc_score(y_test,grid.predict_proba(X_test)[:,1])"
   ]
  },
  {
   "cell_type": "code",
   "execution_count": null,
   "id": "e28c5fc1-34b7-4dfc-9340-03d1df9a3f27",
   "metadata": {},
   "outputs": [],
   "source": [
    "# Assuming 'grid' is your GridSearchCV object that has been fitted to the data\n",
    "best_model = grid.best_estimator_"
   ]
  },
  {
   "cell_type": "code",
   "execution_count": null,
   "id": "77667447-c1c5-44c4-8c17-e04f0586bed6",
   "metadata": {},
   "outputs": [],
   "source": [
    "import pickle\n",
    "filename=\"RF_G.sav\"\n",
    "pickle.dump(best_model,open(filename,'wb'))"
   ]
  },
  {
   "cell_type": "code",
   "execution_count": null,
   "id": "VSHBgQmDYqq9",
   "metadata": {
    "id": "VSHBgQmDYqq9"
   },
   "outputs": [],
   "source": [
    "table=pd.DataFrame.from_dict(re)"
   ]
  },
  {
   "cell_type": "code",
   "execution_count": null,
   "id": "n-A3dlBMYqq9",
   "metadata": {
    "id": "n-A3dlBMYqq9",
    "outputId": "0a3f544e-6e03-49b7-9a5e-a744415182a0"
   },
   "outputs": [],
   "source": [
    "table"
   ]
  }
 ],
 "metadata": {
  "colab": {
   "provenance": []
  },
  "kernelspec": {
   "display_name": "Python 3 (ipykernel)",
   "language": "python",
   "name": "python3"
  },
  "language_info": {
   "codemirror_mode": {
    "name": "ipython",
    "version": 3
   },
   "file_extension": ".py",
   "mimetype": "text/x-python",
   "name": "python",
   "nbconvert_exporter": "python",
   "pygments_lexer": "ipython3",
   "version": "3.10.14"
  }
 },
 "nbformat": 4,
 "nbformat_minor": 5
}
