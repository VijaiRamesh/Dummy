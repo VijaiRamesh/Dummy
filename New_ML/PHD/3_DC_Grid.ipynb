{
 "cells": [
  {
   "cell_type": "code",
   "execution_count": 1,
   "id": "YzvMiolxYqq1",
   "metadata": {
    "id": "YzvMiolxYqq1"
   },
   "outputs": [],
   "source": [
    "#importing the Libraies\n",
    "import numpy as np\n",
    "import pandas as pd"
   ]
  },
  {
   "cell_type": "code",
   "execution_count": 2,
   "id": "T2T5iPj8Yqq3",
   "metadata": {
    "id": "T2T5iPj8Yqq3"
   },
   "outputs": [],
   "source": [
    "# Reading the Dataset\n",
    "dataset = pd.read_csv('TFcalculationd2.csv')"
   ]
  },
  {
   "cell_type": "code",
   "execution_count": 3,
   "id": "QKiZV2bTYqq5",
   "metadata": {
    "id": "QKiZV2bTYqq5",
    "outputId": "a6b3ace7-74c5-4936-bfe6-6317cc819f8c"
   },
   "outputs": [
    {
     "data": {
      "text/html": [
       "<div>\n",
       "<style scoped>\n",
       "    .dataframe tbody tr th:only-of-type {\n",
       "        vertical-align: middle;\n",
       "    }\n",
       "\n",
       "    .dataframe tbody tr th {\n",
       "        vertical-align: top;\n",
       "    }\n",
       "\n",
       "    .dataframe thead th {\n",
       "        text-align: right;\n",
       "    }\n",
       "</style>\n",
       "<table border=\"1\" class=\"dataframe\">\n",
       "  <thead>\n",
       "    <tr style=\"text-align: right;\">\n",
       "      <th></th>\n",
       "      <th>S.No</th>\n",
       "      <th>BP</th>\n",
       "      <th>AT</th>\n",
       "      <th>PM10</th>\n",
       "      <th>RH</th>\n",
       "      <th>PM2.5</th>\n",
       "      <th>WD</th>\n",
       "      <th>WS</th>\n",
       "      <th>NH3</th>\n",
       "      <th>CO</th>\n",
       "      <th>NO</th>\n",
       "      <th>NO2</th>\n",
       "      <th>NOx</th>\n",
       "      <th>SO2</th>\n",
       "      <th>Ozone</th>\n",
       "      <th>AQI</th>\n",
       "      <th>Label</th>\n",
       "    </tr>\n",
       "  </thead>\n",
       "  <tbody>\n",
       "    <tr>\n",
       "      <th>0</th>\n",
       "      <td>1</td>\n",
       "      <td>739.927841</td>\n",
       "      <td>29.592495</td>\n",
       "      <td>444.669402</td>\n",
       "      <td>50.346059</td>\n",
       "      <td>155.981714</td>\n",
       "      <td>182.398863</td>\n",
       "      <td>1.685305</td>\n",
       "      <td>49.899503</td>\n",
       "      <td>1.667151</td>\n",
       "      <td>94.785703</td>\n",
       "      <td>76.884928</td>\n",
       "      <td>229.145198</td>\n",
       "      <td>23.380207</td>\n",
       "      <td>29.654703</td>\n",
       "      <td>1.309506</td>\n",
       "      <td>Moderate</td>\n",
       "    </tr>\n",
       "    <tr>\n",
       "      <th>1</th>\n",
       "      <td>2</td>\n",
       "      <td>739.927841</td>\n",
       "      <td>29.592495</td>\n",
       "      <td>444.669402</td>\n",
       "      <td>50.346059</td>\n",
       "      <td>155.981714</td>\n",
       "      <td>182.398863</td>\n",
       "      <td>1.685305</td>\n",
       "      <td>49.899503</td>\n",
       "      <td>1.667151</td>\n",
       "      <td>94.785703</td>\n",
       "      <td>76.884928</td>\n",
       "      <td>229.145198</td>\n",
       "      <td>23.380207</td>\n",
       "      <td>29.654703</td>\n",
       "      <td>2.197336</td>\n",
       "      <td>Moderate</td>\n",
       "    </tr>\n",
       "    <tr>\n",
       "      <th>2</th>\n",
       "      <td>3</td>\n",
       "      <td>739.927841</td>\n",
       "      <td>29.592495</td>\n",
       "      <td>444.669402</td>\n",
       "      <td>50.346059</td>\n",
       "      <td>155.981714</td>\n",
       "      <td>182.398863</td>\n",
       "      <td>1.685305</td>\n",
       "      <td>49.899503</td>\n",
       "      <td>1.667151</td>\n",
       "      <td>94.785703</td>\n",
       "      <td>76.884928</td>\n",
       "      <td>229.145198</td>\n",
       "      <td>23.380207</td>\n",
       "      <td>29.654703</td>\n",
       "      <td>2.197336</td>\n",
       "      <td>Moderate</td>\n",
       "    </tr>\n",
       "    <tr>\n",
       "      <th>3</th>\n",
       "      <td>4</td>\n",
       "      <td>739.927841</td>\n",
       "      <td>29.592495</td>\n",
       "      <td>444.669402</td>\n",
       "      <td>50.346059</td>\n",
       "      <td>155.981714</td>\n",
       "      <td>182.398863</td>\n",
       "      <td>1.685305</td>\n",
       "      <td>49.899503</td>\n",
       "      <td>1.667151</td>\n",
       "      <td>94.785703</td>\n",
       "      <td>76.884928</td>\n",
       "      <td>229.145198</td>\n",
       "      <td>23.380207</td>\n",
       "      <td>29.654703</td>\n",
       "      <td>2.197336</td>\n",
       "      <td>Moderate</td>\n",
       "    </tr>\n",
       "    <tr>\n",
       "      <th>4</th>\n",
       "      <td>5</td>\n",
       "      <td>739.927841</td>\n",
       "      <td>29.592495</td>\n",
       "      <td>444.669402</td>\n",
       "      <td>50.346059</td>\n",
       "      <td>155.981714</td>\n",
       "      <td>182.398863</td>\n",
       "      <td>1.685305</td>\n",
       "      <td>49.899503</td>\n",
       "      <td>1.667151</td>\n",
       "      <td>94.785703</td>\n",
       "      <td>76.884928</td>\n",
       "      <td>229.145198</td>\n",
       "      <td>23.380207</td>\n",
       "      <td>29.654703</td>\n",
       "      <td>2.197336</td>\n",
       "      <td>Moderate</td>\n",
       "    </tr>\n",
       "    <tr>\n",
       "      <th>...</th>\n",
       "      <td>...</td>\n",
       "      <td>...</td>\n",
       "      <td>...</td>\n",
       "      <td>...</td>\n",
       "      <td>...</td>\n",
       "      <td>...</td>\n",
       "      <td>...</td>\n",
       "      <td>...</td>\n",
       "      <td>...</td>\n",
       "      <td>...</td>\n",
       "      <td>...</td>\n",
       "      <td>...</td>\n",
       "      <td>...</td>\n",
       "      <td>...</td>\n",
       "      <td>...</td>\n",
       "      <td>...</td>\n",
       "      <td>...</td>\n",
       "    </tr>\n",
       "    <tr>\n",
       "      <th>2491</th>\n",
       "      <td>2492</td>\n",
       "      <td>972.180417</td>\n",
       "      <td>34.841250</td>\n",
       "      <td>112.833333</td>\n",
       "      <td>68.402083</td>\n",
       "      <td>41.104167</td>\n",
       "      <td>91.885417</td>\n",
       "      <td>2.437917</td>\n",
       "      <td>40.789167</td>\n",
       "      <td>1.719583</td>\n",
       "      <td>7.340833</td>\n",
       "      <td>26.114167</td>\n",
       "      <td>19.872500</td>\n",
       "      <td>6.555000</td>\n",
       "      <td>21.977046</td>\n",
       "      <td>1.254009</td>\n",
       "      <td>Moderate</td>\n",
       "    </tr>\n",
       "    <tr>\n",
       "      <th>2492</th>\n",
       "      <td>2493</td>\n",
       "      <td>972.026250</td>\n",
       "      <td>36.314167</td>\n",
       "      <td>288.927083</td>\n",
       "      <td>59.525833</td>\n",
       "      <td>75.822917</td>\n",
       "      <td>237.239583</td>\n",
       "      <td>0.865833</td>\n",
       "      <td>29.330000</td>\n",
       "      <td>2.177561</td>\n",
       "      <td>96.387500</td>\n",
       "      <td>44.670833</td>\n",
       "      <td>102.346250</td>\n",
       "      <td>8.974583</td>\n",
       "      <td>7.061667</td>\n",
       "      <td>1.368147</td>\n",
       "      <td>Moderate</td>\n",
       "    </tr>\n",
       "    <tr>\n",
       "      <th>2493</th>\n",
       "      <td>2494</td>\n",
       "      <td>971.963750</td>\n",
       "      <td>32.397500</td>\n",
       "      <td>83.135417</td>\n",
       "      <td>84.377083</td>\n",
       "      <td>44.541667</td>\n",
       "      <td>131.479167</td>\n",
       "      <td>0.590000</td>\n",
       "      <td>39.906704</td>\n",
       "      <td>2.177561</td>\n",
       "      <td>86.847517</td>\n",
       "      <td>71.109110</td>\n",
       "      <td>111.700845</td>\n",
       "      <td>10.585417</td>\n",
       "      <td>12.381667</td>\n",
       "      <td>2.007183</td>\n",
       "      <td>Moderate</td>\n",
       "    </tr>\n",
       "    <tr>\n",
       "      <th>2494</th>\n",
       "      <td>2495</td>\n",
       "      <td>972.887083</td>\n",
       "      <td>34.719167</td>\n",
       "      <td>312.250000</td>\n",
       "      <td>55.533750</td>\n",
       "      <td>75.531250</td>\n",
       "      <td>248.406250</td>\n",
       "      <td>0.470417</td>\n",
       "      <td>34.950417</td>\n",
       "      <td>2.177561</td>\n",
       "      <td>166.466563</td>\n",
       "      <td>86.191250</td>\n",
       "      <td>187.012119</td>\n",
       "      <td>21.204167</td>\n",
       "      <td>30.482500</td>\n",
       "      <td>1.472014</td>\n",
       "      <td>Moderate</td>\n",
       "    </tr>\n",
       "    <tr>\n",
       "      <th>2495</th>\n",
       "      <td>2496</td>\n",
       "      <td>973.959583</td>\n",
       "      <td>24.862500</td>\n",
       "      <td>716.533963</td>\n",
       "      <td>72.664167</td>\n",
       "      <td>264.003210</td>\n",
       "      <td>228.958333</td>\n",
       "      <td>0.300000</td>\n",
       "      <td>52.736534</td>\n",
       "      <td>2.177561</td>\n",
       "      <td>225.919276</td>\n",
       "      <td>158.741667</td>\n",
       "      <td>274.951461</td>\n",
       "      <td>18.738416</td>\n",
       "      <td>5.662917</td>\n",
       "      <td>2.176511</td>\n",
       "      <td>Moderate</td>\n",
       "    </tr>\n",
       "  </tbody>\n",
       "</table>\n",
       "<p>2496 rows × 17 columns</p>\n",
       "</div>"
      ],
      "text/plain": [
       "      S.No          BP         AT        PM10         RH       PM2.5  \\\n",
       "0        1  739.927841  29.592495  444.669402  50.346059  155.981714   \n",
       "1        2  739.927841  29.592495  444.669402  50.346059  155.981714   \n",
       "2        3  739.927841  29.592495  444.669402  50.346059  155.981714   \n",
       "3        4  739.927841  29.592495  444.669402  50.346059  155.981714   \n",
       "4        5  739.927841  29.592495  444.669402  50.346059  155.981714   \n",
       "...    ...         ...        ...         ...        ...         ...   \n",
       "2491  2492  972.180417  34.841250  112.833333  68.402083   41.104167   \n",
       "2492  2493  972.026250  36.314167  288.927083  59.525833   75.822917   \n",
       "2493  2494  971.963750  32.397500   83.135417  84.377083   44.541667   \n",
       "2494  2495  972.887083  34.719167  312.250000  55.533750   75.531250   \n",
       "2495  2496  973.959583  24.862500  716.533963  72.664167  264.003210   \n",
       "\n",
       "              WD        WS        NH3        CO          NO         NO2  \\\n",
       "0     182.398863  1.685305  49.899503  1.667151   94.785703   76.884928   \n",
       "1     182.398863  1.685305  49.899503  1.667151   94.785703   76.884928   \n",
       "2     182.398863  1.685305  49.899503  1.667151   94.785703   76.884928   \n",
       "3     182.398863  1.685305  49.899503  1.667151   94.785703   76.884928   \n",
       "4     182.398863  1.685305  49.899503  1.667151   94.785703   76.884928   \n",
       "...          ...       ...        ...       ...         ...         ...   \n",
       "2491   91.885417  2.437917  40.789167  1.719583    7.340833   26.114167   \n",
       "2492  237.239583  0.865833  29.330000  2.177561   96.387500   44.670833   \n",
       "2493  131.479167  0.590000  39.906704  2.177561   86.847517   71.109110   \n",
       "2494  248.406250  0.470417  34.950417  2.177561  166.466563   86.191250   \n",
       "2495  228.958333  0.300000  52.736534  2.177561  225.919276  158.741667   \n",
       "\n",
       "             NOx        SO2      Ozone       AQI     Label  \n",
       "0     229.145198  23.380207  29.654703  1.309506  Moderate  \n",
       "1     229.145198  23.380207  29.654703  2.197336  Moderate  \n",
       "2     229.145198  23.380207  29.654703  2.197336  Moderate  \n",
       "3     229.145198  23.380207  29.654703  2.197336  Moderate  \n",
       "4     229.145198  23.380207  29.654703  2.197336  Moderate  \n",
       "...          ...        ...        ...       ...       ...  \n",
       "2491   19.872500   6.555000  21.977046  1.254009  Moderate  \n",
       "2492  102.346250   8.974583   7.061667  1.368147  Moderate  \n",
       "2493  111.700845  10.585417  12.381667  2.007183  Moderate  \n",
       "2494  187.012119  21.204167  30.482500  1.472014  Moderate  \n",
       "2495  274.951461  18.738416   5.662917  2.176511  Moderate  \n",
       "\n",
       "[2496 rows x 17 columns]"
      ]
     },
     "execution_count": 3,
     "metadata": {},
     "output_type": "execute_result"
    }
   ],
   "source": [
    "dataset"
   ]
  },
  {
   "cell_type": "code",
   "execution_count": 4,
   "id": "jf0kV_FmYqq5",
   "metadata": {
    "id": "jf0kV_FmYqq5",
    "outputId": "556878ea-9c93-4d82-ea93-dbc58140982c"
   },
   "outputs": [
    {
     "data": {
      "text/plain": [
       "Index(['S.No', 'BP', 'AT', 'PM10', 'RH', 'PM2.5', 'WD', 'WS', 'NH3', 'CO',\n",
       "       'NO', 'NO2', 'NOx', 'SO2', 'Ozone', 'AQI', 'Label'],\n",
       "      dtype='object')"
      ]
     },
     "execution_count": 4,
     "metadata": {},
     "output_type": "execute_result"
    }
   ],
   "source": [
    "dataset.columns"
   ]
  },
  {
   "cell_type": "code",
   "execution_count": null,
   "id": "WZMu15Z5Yqq6",
   "metadata": {
    "id": "WZMu15Z5Yqq6"
   },
   "outputs": [],
   "source": [
    "dataset=pd.get_dummies(dataset,dtype=int,drop_first=True)"
   ]
  },
  {
   "cell_type": "code",
   "execution_count": null,
   "id": "a-pWElIoYqq6",
   "metadata": {
    "id": "a-pWElIoYqq6",
    "outputId": "4ce967c9-43e8-412e-9d73-71fcc1fd3e97"
   },
   "outputs": [],
   "source": [
    "dataset"
   ]
  },
  {
   "cell_type": "code",
   "execution_count": null,
   "id": "KeMPvXrLYqq6",
   "metadata": {
    "id": "KeMPvXrLYqq6"
   },
   "outputs": [],
   "source": [
    "indep=dataset[['Age', 'EstimatedSalary','Gender_Male']]\n",
    "dep=dataset['Purchased']"
   ]
  },
  {
   "cell_type": "code",
   "execution_count": null,
   "id": "4mPXyCWkYqq8",
   "metadata": {
    "id": "4mPXyCWkYqq8"
   },
   "outputs": [],
   "source": [
    "#split into training set and test\n",
    "from sklearn.model_selection import train_test_split\n",
    "X_train, X_test, y_train, y_test = train_test_split(indep, dep, test_size = 0.20, random_state = 0)\n"
   ]
  },
  {
   "cell_type": "code",
   "execution_count": null,
   "id": "ulurv5EHYqq8",
   "metadata": {
    "id": "ulurv5EHYqq8"
   },
   "outputs": [],
   "source": [
    "from sklearn.preprocessing import StandardScaler\n",
    "sc = StandardScaler()\n",
    "X_train = sc.fit_transform(X_train)\n",
    "X_test = sc.transform(X_test)"
   ]
  },
  {
   "cell_type": "code",
   "execution_count": null,
   "id": "qlwV6ctVYqq8",
   "metadata": {
    "id": "qlwV6ctVYqq8"
   },
   "outputs": [],
   "source": [
    "from sklearn.tree import DecisionTreeClassifier"
   ]
  },
  {
   "cell_type": "code",
   "execution_count": null,
   "id": "0-yXHc3mYqq8",
   "metadata": {
    "id": "0-yXHc3mYqq8"
   },
   "outputs": [],
   "source": [
    "#https://scikit-learn.org/stable/modules/model_evaluation.html#scoring-parameter"
   ]
  },
  {
   "cell_type": "code",
   "execution_count": null,
   "id": "NEo3oLZlYqq9",
   "metadata": {
    "id": "NEo3oLZlYqq9",
    "outputId": "5624c6cb-8a56-47d8-a680-32047f40fee5"
   },
   "outputs": [],
   "source": [
    "from sklearn.model_selection import GridSearchCV\n",
    "\n",
    "# Define the parameter grid\n",
    "param_grid = {\n",
    "    'criterion': ['gini', 'entropy', 'log_loss'],\n",
    "    'splitter': ['best', 'random'],\n",
    "    'max_depth': [None, 10, 20, 30],\n",
    "    'min_samples_split': [2, 10, 20],\n",
    "    'min_samples_leaf': [1, 5, 10],\n",
    "    'min_weight_fraction_leaf': [0.0, 0.05],\n",
    "    'max_features': ['sqrt', 'log2'],\n",
    "    'max_leaf_nodes': [None, 30, 50],\n",
    "    'random_state': [42],\n",
    "    'min_impurity_decrease': [0.0, 0.01],\n",
    "    'class_weight': [None, 'balanced'],\n",
    "    'ccp_alpha': [0.0, 0.01],\n",
    "    'monotonic_cst': [None]  # Example; specific use case dependent, often left out of generic grids\n",
    "}\n",
    "grid = GridSearchCV(DecisionTreeClassifier(), param_grid, refit = True, verbose = 3,n_jobs=-1,scoring='f1_weighted')\n",
    "\n",
    "# fitting the model for grid search\n",
    "grid.fit(X_train, y_train)"
   ]
  },
  {
   "cell_type": "code",
   "execution_count": null,
   "id": "5039e0c0-ba8e-454f-9f1d-1bf2b1ad7e24",
   "metadata": {},
   "outputs": [],
   "source": [
    "\n",
    "re=grid.cv_results_\n",
    "grid_predictions = grid.predict(X_test)"
   ]
  },
  {
   "cell_type": "code",
   "execution_count": null,
   "id": "kJrOgZu0Yqq9",
   "metadata": {
    "id": "kJrOgZu0Yqq9"
   },
   "outputs": [],
   "source": [
    "from sklearn.metrics import confusion_matrix\n",
    "cm = confusion_matrix(y_test, grid_predictions)"
   ]
  },
  {
   "cell_type": "code",
   "execution_count": null,
   "id": "DYwHfRuFYqq9",
   "metadata": {
    "id": "DYwHfRuFYqq9"
   },
   "outputs": [],
   "source": [
    "# print classification report\n",
    "from sklearn.metrics import classification_report\n",
    "clf_report = classification_report(y_test, grid_predictions)"
   ]
  },
  {
   "cell_type": "code",
   "execution_count": null,
   "id": "opacd95JYqq9",
   "metadata": {
    "id": "opacd95JYqq9",
    "outputId": "9303a9ab-1133-423a-d099-54ac4a9b2c56"
   },
   "outputs": [],
   "source": [
    "from sklearn.metrics import f1_score\n",
    "f1_macro=f1_score(y_test,grid_predictions,average='weighted')\n",
    "print(\"The f1_macro value for best parameter {}:\".format(grid.best_params_),f1_macro)"
   ]
  },
  {
   "cell_type": "code",
   "execution_count": null,
   "id": "wikGhozlYqq9",
   "metadata": {
    "id": "wikGhozlYqq9",
    "outputId": "ab81b851-bdaa-46d5-b0de-137c5f1064e0"
   },
   "outputs": [],
   "source": [
    "print(\"The confusion Matrix:\\n\",cm)"
   ]
  },
  {
   "cell_type": "code",
   "execution_count": null,
   "id": "b-g12yl2Yqq9",
   "metadata": {
    "id": "b-g12yl2Yqq9",
    "outputId": "22a092b6-0b66-4f94-8df9-d0d358ff9cc3"
   },
   "outputs": [],
   "source": [
    "print(\"The report:\\n\",clf_report)"
   ]
  },
  {
   "cell_type": "code",
   "execution_count": null,
   "id": "rHT1QCr6Yqq9",
   "metadata": {
    "id": "rHT1QCr6Yqq9",
    "outputId": "81227d2d-0fb7-4985-e1c6-a8901f294b8b"
   },
   "outputs": [],
   "source": [
    "from sklearn.metrics import roc_auc_score\n",
    "roc_auc_score(y_test,grid.predict_proba(X_test)[:,1])"
   ]
  },
  {
   "cell_type": "code",
   "execution_count": null,
   "id": "e28c5fc1-34b7-4dfc-9340-03d1df9a3f27",
   "metadata": {},
   "outputs": [],
   "source": [
    "# Assuming 'grid' is your GridSearchCV object that has been fitted to the data\n",
    "best_model = grid.best_estimator_"
   ]
  },
  {
   "cell_type": "code",
   "execution_count": null,
   "id": "77667447-c1c5-44c4-8c17-e04f0586bed6",
   "metadata": {},
   "outputs": [],
   "source": [
    "import pickle\n",
    "filename=\"RF_G.sav\"\n",
    "pickle.dump(best_model,open(filename,'wb'))"
   ]
  },
  {
   "cell_type": "code",
   "execution_count": null,
   "id": "VSHBgQmDYqq9",
   "metadata": {
    "id": "VSHBgQmDYqq9"
   },
   "outputs": [],
   "source": [
    "table=pd.DataFrame.from_dict(re)"
   ]
  },
  {
   "cell_type": "code",
   "execution_count": null,
   "id": "n-A3dlBMYqq9",
   "metadata": {
    "id": "n-A3dlBMYqq9",
    "outputId": "0a3f544e-6e03-49b7-9a5e-a744415182a0"
   },
   "outputs": [],
   "source": [
    "table"
   ]
  }
 ],
 "metadata": {
  "colab": {
   "provenance": []
  },
  "kernelspec": {
   "display_name": "Python 3 (ipykernel)",
   "language": "python",
   "name": "python3"
  },
  "language_info": {
   "codemirror_mode": {
    "name": "ipython",
    "version": 3
   },
   "file_extension": ".py",
   "mimetype": "text/x-python",
   "name": "python",
   "nbconvert_exporter": "python",
   "pygments_lexer": "ipython3",
   "version": "3.10.14"
  }
 },
 "nbformat": 4,
 "nbformat_minor": 5
}
